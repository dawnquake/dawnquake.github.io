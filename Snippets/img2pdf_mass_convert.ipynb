{
 "cells": [
  {
   "cell_type": "code",
   "execution_count": 1,
   "id": "encouraging-recovery",
   "metadata": {},
   "outputs": [],
   "source": [
    "from PIL import Image, ImageEnhance\n",
    "import glob\n",
    "import os\n",
    "from natsort import natsorted, ns\n",
    "\n",
    "file_list = natsorted(glob.glob(\"*.jpeg\"))\n",
    "print(file_list) ## Checking that the file list is correct\n",
    "output_filename = \"output.pdf\" ## Filename for output\n",
    "image0 = Image.open(file_list[0])\n",
    "\n",
    "rest_image_list = []\n",
    "\n",
    "for index in range(1, len(file_list)):\n",
    "    image = Image.open(file_list[index])\n",
    "\n",
    "    ## Here are some typical applicable\n",
    "    # image = image.resize((600, 849))\n",
    "    \n",
    "    # left = 40\n",
    "    # top = 40\n",
    "    # right = 560\n",
    "    # bottom = 809\n",
    "    # image = image.resize((600, 849))\n",
    "    \n",
    "    # factor = 1\n",
    "    # enhancer = ImageEnhance.Contrast(image)\n",
    "    # image_mod = enhancer.enhance(factor)\n",
    "    # print(image_mod.size)\n",
    "    # Here, image_mod is the output\n",
    "    # so you should append the image_mod\n",
    "\n",
    "    rest_image_list.append(image)\n",
    "\n",
    "\n",
    "\n",
    "image0.save(output_filename,\n",
    "            \"PDF\" ,\n",
    "            resolution=100.0,\n",
    "            save_all=True,\n",
    "            append_images=rest_image_list)"
   ]
  },
  {
   "cell_type": "code",
   "execution_count": null,
   "id": "cardiac-programming",
   "metadata": {},
   "outputs": [],
   "source": []
  }
 ],
 "metadata": {
  "kernelspec": {
   "display_name": "Python 3",
   "language": "python",
   "name": "python3"
  },
  "language_info": {
   "codemirror_mode": {
    "name": "ipython",
    "version": 3
   },
   "file_extension": ".py",
   "mimetype": "text/x-python",
   "name": "python",
   "nbconvert_exporter": "python",
   "pygments_lexer": "ipython3",
   "version": "3.6.9"
  }
 },
 "nbformat": 4,
 "nbformat_minor": 5
}